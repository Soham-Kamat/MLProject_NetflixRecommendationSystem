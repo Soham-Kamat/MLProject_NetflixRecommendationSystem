{
  "nbformat": 4,
  "nbformat_minor": 0,
  "metadata": {
    "colab": {
      "name": "NetflixMovieRecommendationSys.ipynb",
      "provenance": [],
      "collapsed_sections": [],
      "toc_visible": true,
      "include_colab_link": true
    },
    "kernelspec": {
      "name": "python3",
      "display_name": "Python 3"
    },
    "language_info": {
      "name": "python"
    }
  },
  "cells": [
    {
      "cell_type": "markdown",
      "metadata": {
        "id": "view-in-github",
        "colab_type": "text"
      },
      "source": [
        "<a href=\"https://colab.research.google.com/github/Soham-Kamat/MLProject_NetflixRecommendationSystem/blob/main/NetflixMovieRecommendationSys.ipynb\" target=\"_parent\"><img src=\"https://colab.research.google.com/assets/colab-badge.svg\" alt=\"Open In Colab\"/></a>"
      ]
    },
    {
      "cell_type": "code",
      "metadata": {
        "id": "sDWDop6UKVXV",
        "colab": {
          "base_uri": "https://localhost:8080/"
        },
        "outputId": "0c616cc2-0589-41c2-a4c1-c16e6bb21241"
      },
      "source": [
        "#This file has to be installed Locally to run surprise\n",
        "!pip install surprise"
      ],
      "execution_count": 2,
      "outputs": [
        {
          "output_type": "stream",
          "text": [
            "Collecting surprise\n",
            "  Downloading https://files.pythonhosted.org/packages/61/de/e5cba8682201fcf9c3719a6fdda95693468ed061945493dea2dd37c5618b/surprise-0.1-py2.py3-none-any.whl\n",
            "Collecting scikit-surprise\n",
            "\u001b[?25l  Downloading https://files.pythonhosted.org/packages/97/37/5d334adaf5ddd65da99fc65f6507e0e4599d092ba048f4302fe8775619e8/scikit-surprise-1.1.1.tar.gz (11.8MB)\n",
            "\u001b[K     |████████████████████████████████| 11.8MB 3.5MB/s \n",
            "\u001b[?25hRequirement already satisfied: joblib>=0.11 in /usr/local/lib/python3.7/dist-packages (from scikit-surprise->surprise) (1.0.1)\n",
            "Requirement already satisfied: numpy>=1.11.2 in /usr/local/lib/python3.7/dist-packages (from scikit-surprise->surprise) (1.19.5)\n",
            "Requirement already satisfied: scipy>=1.0.0 in /usr/local/lib/python3.7/dist-packages (from scikit-surprise->surprise) (1.4.1)\n",
            "Requirement already satisfied: six>=1.10.0 in /usr/local/lib/python3.7/dist-packages (from scikit-surprise->surprise) (1.15.0)\n",
            "Building wheels for collected packages: scikit-surprise\n",
            "  Building wheel for scikit-surprise (setup.py) ... \u001b[?25l\u001b[?25hdone\n",
            "  Created wheel for scikit-surprise: filename=scikit_surprise-1.1.1-cp37-cp37m-linux_x86_64.whl size=1617615 sha256=b54fcf64ea9159a86f3d7fe1482c9bba225a7c810edaec1131ea5d67dfc7c30c\n",
            "  Stored in directory: /root/.cache/pip/wheels/78/9c/3d/41b419c9d2aff5b6e2b4c0fc8d25c538202834058f9ed110d0\n",
            "Successfully built scikit-surprise\n",
            "Installing collected packages: scikit-surprise, surprise\n",
            "Successfully installed scikit-surprise-1.1.1 surprise-0.1\n"
          ],
          "name": "stdout"
        }
      ]
    },
    {
      "cell_type": "code",
      "metadata": {
        "id": "PVvlG6hIKOWC"
      },
      "source": [
        "'''\n",
        "Topic-Netflix Movie Recommendation system\n",
        "Algorithms USed\n",
        "1.SVD\n",
        "2.Pearson R Correlation\n",
        "\n",
        "Files used-\n",
        "dataset.txt\n",
        "movie_titles.csv...Uploaded in the respository.\n",
        "\n",
        "Group-\n",
        "1.Harshita Mishra 40 D12C\n",
        "2.Soham Kamat 28 D12C\n",
        "\n",
        "'''\n",
        "\n",
        "\n",
        "#All the modules are imported here\n",
        "import pandas as pd\n",
        "import numpy as np\n",
        "import math\n",
        "import re\n",
        "from scipy.sparse import csr_matrix\n",
        "import matplotlib.pyplot as plt\n",
        "import seaborn as sns\n",
        "from surprise import Reader, Dataset, SVD\n",
        "from surprise.model_selection import cross_validate\n",
        "sns.set_style(\"darkgrid\")\n"
      ],
      "execution_count": 30,
      "outputs": []
    },
    {
      "cell_type": "code",
      "metadata": {
        "colab": {
          "base_uri": "https://localhost:8080/"
        },
        "id": "NJtWRUacLMuI",
        "outputId": "ea84f640-83d8-4da7-af34-4b62292592c7"
      },
      "source": [
        "'''\n",
        "df1 dataset looks like this\n",
        "1:\n",
        "983686     3.0  2001-11-06\n",
        "953667     4.0  2005-02-27\n",
        "2:\n",
        "2000000  1910904     5.0  2005-07-06\n",
        "so..on\n",
        "\n",
        "This means Movie id 1 has been watched by customer_id 983686 on 2001-11-06 and the user rated 3.0\n",
        "Similarly for all other rows.\n",
        "\n",
        "dataset.txt contains 23L records\n",
        "'''\n",
        "\n",
        "df = pd.read_csv('dataset.txt', header = None, names = ['Cust_Id', 'Rating','Date'], usecols = [0,1,2])\n",
        "\n",
        "df['Rating'] = df['Rating'].astype(float)\n",
        "#.shape() tells rows*colms\n",
        "\n",
        "print('Dataset 1 shape: {}'.format(df1.shape))\n",
        "print('Dataset 1 examples-')\n",
        "print(df1.iloc[::500000, :])  #integer index based =iloc"
      ],
      "execution_count": 60,
      "outputs": [
        {
          "output_type": "stream",
          "text": [
            "Dataset 1 shape: (2344156, 3)\n",
            "Dataset 1 examples-\n",
            "         Cust_Id  Rating        Date\n",
            "0             1:     NaN         NaN\n",
            "500000    983686     3.0  2001-11-06\n",
            "1000000   953667     4.0  2005-02-27\n",
            "1500000  1253590     4.0  2005-01-07\n",
            "2000000  1910904     5.0  2005-07-06\n"
          ],
          "name": "stdout"
        }
      ]
    },
    {
      "cell_type": "code",
      "metadata": {
        "id": "F3UvifgXG6MH",
        "colab": {
          "base_uri": "https://localhost:8080/",
          "height": 734
        },
        "outputId": "605ca19e-3730-4bad-e819-42f2b2c33ad2"
      },
      "source": [
        "'''\n",
        "Data Viweing is done here\n",
        "\n",
        "The dataset contains NaN in Rating and Date colums where There is a movie id ,using that we calculate number of movies.\n",
        "After that displaying count of CustomersRating given and Movies in the form of a bar graph\n",
        "\n",
        "Rating scale is out of 5.The bar graph shows the percentage of users who voted for a particular rating.\n",
        "\n",
        "\n",
        "\n",
        "'''\n",
        "\n",
        "p = df.groupby('Rating')['Rating'].agg(['count'])\n",
        "print(p)\n",
        "\n",
        "# get movie count\n",
        "# print(df.isnull().sum()[0])\n",
        "movie_count = df.isnull().sum()[1]\n",
        "# print(movie_count)\n",
        "\n",
        "# get customer count\n",
        "# print(df['Cust_Id'])\n",
        "cust_count = df['Cust_Id'].nunique() - movie_count\n",
        "\n",
        "# get rating count\n",
        "rating_count = df['Cust_Id'].count() - movie_count\n",
        "\n",
        "ax = p.plot(kind = 'barh', legend = True, figsize = (15,10))\n",
        "# print(ax)\n",
        "plt.title('Total pool: {:,} Movies, {:,} customers, {:,} ratings given'.format(movie_count, cust_count, rating_count), fontsize=20)\n",
        "plt.axis('on')\n",
        "\n",
        "for i in range(1,6):\n",
        "    ax.text(p.iloc[i-1][0]/4, i-1, 'Rating {}: {:.0f}%'.format(i, p.iloc[i-1][0]*100 / p.sum()[0]), color = 'white', weight = 'bold')"
      ],
      "execution_count": 62,
      "outputs": [
        {
          "output_type": "stream",
          "text": [
            "         count\n",
            "Rating        \n",
            "1.0     108024\n",
            "2.0     230940\n",
            "3.0     658749\n",
            "4.0     815439\n",
            "5.0     530560\n"
          ],
          "name": "stdout"
        },
        {
          "output_type": "display_data",
          "data": {
            "image/png": "[encoded data removed]",
            "text/plain": [
              "<Figure size 1080x720 with 1 Axes>"
            ]
          },
          "metadata": {
            "tags": []
          }
        }
      ]
    },
    {
      "cell_type": "code",
      "metadata": {
        "colab": {
          "base_uri": "https://localhost:8080/"
        },
        "id": "Vu8DQcmSUttv",
        "outputId": "47928e49-b53a-45e3-c968-5938c415f553"
      },
      "source": [
        "'''\n",
        "In this cell ,we create a movie numpy aray to count how mnay times each movie has been reviewed.\n",
        "\n",
        "'''\n",
        "\n",
        "df_nan = pd.DataFrame(pd.isnull(df.Rating))\n",
        "print(df_nan)\n",
        "df_nan = df_nan[df_nan['Rating'] == True]\n",
        "# print(df_nan)\n",
        "df_nan = df_nan.reset_index()\n",
        "# print(df_nan)\n",
        "\n",
        "movie_np = []\n",
        "movie_id = 1\n",
        "\n",
        "for i,j in zip(df_nan['index'][1:],df_nan['index'][:-1]):\n",
        "    # numpy approach\n",
        "    temp = np.full((1,i-j-1), movie_id)\n",
        "    # print(temp.shape)\n",
        "    movie_np = np.append(movie_np, temp) #append will add to that array \n",
        "    # print(movie_np)\n",
        "    movie_id += 1\n",
        "\n",
        "\n",
        "# Account for last record and corresponding length\n",
        "# numpy approach\n",
        "last_record = np.full((1,len(df) - df_nan.iloc[-1, 0] - 1),movie_id)\n",
        "movie_np = np.append(movie_np, last_record)\n",
        "# print(movie_np[574])\n",
        "print('Movie numpy: {}'.format(movie_np))\n",
        "print('Length: {}'.format(len(movie_np)))\n"
      ],
      "execution_count": 63,
      "outputs": [
        {
          "output_type": "stream",
          "text": [
            "         Rating\n",
            "0          True\n",
            "1         False\n",
            "2         False\n",
            "3         False\n",
            "4         False\n",
            "...         ...\n",
            "2344151   False\n",
            "2344152   False\n",
            "2344153   False\n",
            "2344154   False\n",
            "2344155    True\n",
            "\n",
            "[2344156 rows x 1 columns]\n",
            "Movie numpy: [  1.   1.   1. ... 443. 443. 443.]\n",
            "Length: 2343712\n"
          ],
          "name": "stdout"
        }
      ]
    },
    {
      "cell_type": "code",
      "metadata": {
        "colab": {
          "base_uri": "https://localhost:8080/"
        },
        "id": "dmIp6-hAU-Ho",
        "outputId": "aa981583-104c-4789-bf7a-0c15cf22fb65"
      },
      "source": [
        "'''\n",
        "Appending the movie_np to our previous dataset i.e df\n",
        "'''\n",
        "\n",
        "\n",
        "df = df[pd.notnull(df['Rating'])]\n",
        "# print(df)\n",
        "\n",
        "df['Movie_Id'] = movie_np.astype(int) #append movie id list to df\n",
        "df['Cust_Id'] = df['Cust_Id'].astype(int)\n",
        "print('-Dataset examples-')\n",
        "print(df.iloc[::10000, :])#Now we have customer rating matched with respective movie_id\n"
      ],
      "execution_count": 64,
      "outputs": [
        {
          "output_type": "stream",
          "text": [
            "-Dataset examples-\n",
            "         Cust_Id  Rating        Date  Movie_Id\n",
            "1        1488844     3.0  2005-09-06         1\n",
            "10008    2421394     3.0  2005-06-01         8\n",
            "20008    1834737     3.0  2005-10-22         8\n",
            "30017    1572097     4.0  2005-07-25        17\n",
            "40018    2304974     3.0  2001-11-24        18\n",
            "...          ...     ...         ...       ...\n",
            "2300442  1214824     5.0  2004-10-05       442\n",
            "2310442  1572040     5.0  2005-12-04       442\n",
            "2320443   240084     3.0  2005-09-01       443\n",
            "2330443    35616     4.0  2004-07-09       443\n",
            "2340443  2531475     4.0  2005-09-15       443\n",
            "\n",
            "[235 rows x 4 columns]\n"
          ],
          "name": "stdout"
        }
      ]
    },
    {
      "cell_type": "code",
      "metadata": {
        "colab": {
          "base_uri": "https://localhost:8080/"
        },
        "id": "YNEeAdTdWE7N",
        "outputId": "fc0cb650-e56c-40f2-e113-a14602c2f0e0"
      },
      "source": [
        "'''\n",
        "Data cleaning starts here,as the file is very large we want to trim it iorder make the kernel give fast results.\n",
        "\n",
        "Using the count for each movie_id we alculate its mean i.e the mean rating for a particular movie\n",
        "Now,using quantile we set a benchmark i.e min likes for which a movie must be selected.Rest movies will be trimmed out of the \n",
        "movie dataset.\n",
        "\n",
        "Here the calculated benchmark is 2171 reviews\n",
        "\n",
        "Similarly for customer minimum reviews are 7.0 ,other customer which have reviewed less than 7 movies will be trimmed \n",
        "out of dataset.\n",
        "\n",
        "\n",
        "'''\n",
        "f = ['count','mean']\n",
        "\n",
        "df_movie_summary = df.groupby('Movie_Id')['Rating'].agg(f)\n",
        " #find count and mean of each movie_id....movie_id 1 has count 547 and average rating 3.74\n",
        "print(df_movie_summary)\n",
        "df_movie_summary.index = df_movie_summary.index.map(int)\n",
        "# print(type(df_movie_summary.index))\n",
        "# print(df_movie_summary)\n",
        "movie_benchmark = round(df_movie_summary['count'].quantile(0.7),0) #70% quantile...setting benchmark\n",
        "#2171 should be min likes for a movie\n",
        "print(movie_benchmark)\n",
        "#Dropping those movies having likes(count) less than 2171\n",
        "drop_movie_list = df_movie_summary[df_movie_summary['count'] < movie_benchmark].index #Trimming data\n",
        "# print(drop_movie_list)  #New List contains only 310 movies\n",
        "print('Movie minimum times of review: {}'.format(movie_benchmark))\n",
        "\n",
        "df_cust_summary = df.groupby('Cust_Id')['Rating'].agg(f)\n",
        "print(df_cust_summary) #Average Rating given by a customer\n",
        "df_cust_summary.index = df_cust_summary.index.map(int)\n",
        "cust_benchmark = round(df_cust_summary['count'].quantile(0.7),0)\n",
        "#Only those customers who have liked min 7 movies\n",
        "drop_cust_list = df_cust_summary[df_cust_summary['count'] < cust_benchmark].index\n",
        "\n",
        "print('Customer minimum times of review: {}'.format(cust_benchmark))"
      ],
      "execution_count": 65,
      "outputs": [
        {
          "output_type": "stream",
          "text": [
            "          count      mean\n",
            "Movie_Id                 \n",
            "1           547  3.749543\n",
            "2           145  3.558621\n",
            "3          2012  3.641153\n",
            "4           142  2.739437\n",
            "5          1140  3.919298\n",
            "...         ...       ...\n",
            "439         688  3.216570\n",
            "440         107  2.925234\n",
            "441         340  3.770588\n",
            "442       25292  3.934129\n",
            "443       29209  3.976240\n",
            "\n",
            "[443 rows x 2 columns]\n",
            "2171.0\n",
            "Movie minimum times of review: 2171.0\n",
            "         count      mean\n",
            "Cust_Id                 \n",
            "6           11  3.363636\n",
            "7           16  4.562500\n",
            "10           5  3.200000\n",
            "25           1  3.000000\n",
            "33           1  4.000000\n",
            "...        ...       ...\n",
            "2649401      3  3.666667\n",
            "2649404      2  3.500000\n",
            "2649409      3  3.666667\n",
            "2649426     11  4.272727\n",
            "2649429      4  4.750000\n",
            "\n",
            "[354915 rows x 2 columns]\n",
            "Customer minimum times of review: 7.0\n"
          ],
          "name": "stdout"
        }
      ]
    },
    {
      "cell_type": "code",
      "metadata": {
        "colab": {
          "base_uri": "https://localhost:8080/"
        },
        "id": "1RMRlM7TWJGj",
        "outputId": "83c8f4b0-2a0d-4e67-b4b5-92233764bc31"
      },
      "source": [
        "#After trimming the dataset contains less values\n",
        "print('Original Shape: {}'.format(df.shape))\n",
        "df = df[~df['Movie_Id'].isin(drop_movie_list)]\n",
        "df = df[~df['Cust_Id'].isin(drop_cust_list)]\n",
        "print('After Trim Shape: {}'.format(df.shape))\n",
        "print('-Data Examples-')\n",
        "print(df.iloc[::5000000, :])"
      ],
      "execution_count": 66,
      "outputs": [
        {
          "output_type": "stream",
          "text": [
            "Original Shape: (2343712, 4)\n",
            "After Trim Shape: (1595440, 4)\n",
            "-Data Examples-\n",
            "      Cust_Id  Rating        Date  Movie_Id\n",
            "5106   824097     2.0  2005-07-08         8\n"
          ],
          "name": "stdout"
        }
      ]
    },
    {
      "cell_type": "code",
      "metadata": {
        "colab": {
          "base_uri": "https://localhost:8080/"
        },
        "id": "dN1-8Uy7WR8u",
        "outputId": "b5bf96fb-6bb6-46cb-f27d-21910fba319f"
      },
      "source": [
        "'''\n",
        "This is the movies dataset that is the total list of movies in netflix database which are 17770 out of which all customers \n",
        "have only seen 440 movies.\n",
        "'''\n",
        "df_title = pd.read_csv('movie_titles.csv', encoding = \"ISO-8859-1\", header = None, names = ['Movie_Id', 'Year', 'Name'])\n",
        "df_title.set_index('Movie_Id', inplace = True)\n",
        "print(df_title.shape) # 17770 Movies in movies list\n",
        "print (df_title.head(20))#First 20 Movies \n",
        "\n"
      ],
      "execution_count": 67,
      "outputs": [
        {
          "output_type": "stream",
          "text": [
            "(17770, 2)\n",
            "            Year                                               Name\n",
            "Movie_Id                                                           \n",
            "1         2003.0                                    Dinosaur Planet\n",
            "2         2004.0                         Isle of Man TT 2004 Review\n",
            "3         1997.0                                          Character\n",
            "4         1994.0                       Paula Abdul's Get Up & Dance\n",
            "5         2004.0                           The Rise and Fall of ECW\n",
            "6         1997.0                                               Sick\n",
            "7         1992.0                                              8 Man\n",
            "8         2004.0                         What the #$*! Do We Know!?\n",
            "9         1991.0                           Class of Nuke 'Em High 2\n",
            "10        2001.0                                            Fighter\n",
            "11        1999.0                     Full Frame: Documentary Shorts\n",
            "12        1947.0                               My Favorite Brunette\n",
            "13        2003.0  Lord of the Rings: The Return of the King: Ext...\n",
            "14        1982.0                                 Nature: Antarctica\n",
            "15        1988.0                   Neil Diamond: Greatest Hits Live\n",
            "16        1996.0                                          Screamers\n",
            "17        2005.0                                          7 Seconds\n",
            "18        1994.0                                   Immortal Beloved\n",
            "19        2000.0                              By Dawn's Early Light\n",
            "20        1972.0                                    Seeta Aur Geeta\n"
          ],
          "name": "stdout"
        }
      ]
    },
    {
      "cell_type": "code",
      "metadata": {
        "colab": {
          "base_uri": "https://localhost:8080/"
        },
        "id": "mQDJxy09WOLU",
        "outputId": "fae32dde-6d1c-4149-88f6-898bdc9b4970"
      },
      "source": [
        "\n",
        "df_p = pd.pivot_table(df,values='Rating',index='Cust_Id',columns='Movie_Id')# Putting data in matrix form\n",
        "print(df_p)\n",
        "print(df_p.shape)\n"
      ],
      "execution_count": 68,
      "outputs": [
        {
          "output_type": "stream",
          "text": [
            "Movie_Id  8    16   17   18   26   28   30   ...  431  432  433  436  438  442  443\n",
            "Cust_Id                                      ...                                   \n",
            "6         NaN  NaN  NaN  NaN  NaN  NaN  3.0  ...  NaN  NaN  NaN  NaN  NaN  NaN  NaN\n",
            "7         5.0  NaN  NaN  NaN  NaN  4.0  5.0  ...  NaN  NaN  NaN  NaN  NaN  NaN  NaN\n",
            "79        NaN  NaN  NaN  NaN  NaN  NaN  3.0  ...  NaN  NaN  NaN  NaN  NaN  NaN  NaN\n",
            "87        NaN  NaN  NaN  NaN  NaN  NaN  NaN  ...  NaN  NaN  NaN  NaN  NaN  NaN  NaN\n",
            "97        NaN  NaN  NaN  NaN  NaN  NaN  NaN  ...  NaN  NaN  NaN  NaN  NaN  NaN  5.0\n",
            "...       ...  ...  ...  ...  ...  ...  ...  ...  ...  ...  ...  ...  ...  ...  ...\n",
            "2649335   NaN  NaN  NaN  NaN  NaN  NaN  NaN  ...  NaN  NaN  NaN  NaN  NaN  NaN  3.0\n",
            "2649336   4.0  NaN  NaN  NaN  NaN  NaN  NaN  ...  NaN  NaN  NaN  NaN  NaN  NaN  NaN\n",
            "2649378   NaN  NaN  NaN  NaN  NaN  3.0  3.0  ...  NaN  NaN  NaN  NaN  NaN  NaN  NaN\n",
            "2649388   NaN  NaN  NaN  NaN  NaN  NaN  3.0  ...  NaN  NaN  NaN  NaN  NaN  NaN  NaN\n",
            "2649426   NaN  NaN  4.0  NaN  NaN  4.0  4.0  ...  NaN  NaN  NaN  NaN  NaN  NaN  4.0\n",
            "\n",
            "[117252 rows x 133 columns]\n",
            "(117252, 133)\n"
          ],
          "name": "stdout"
        }
      ]
    },
    {
      "cell_type": "code",
      "metadata": {
        "colab": {
          "base_uri": "https://localhost:8080/"
        },
        "id": "obe3ozj1XHh_",
        "outputId": "c3cefbd9-0e03-4586-c9d1-aa2121bdb5d5"
      },
      "source": [
        " '''\n",
        " This is the first Recommendation Model......Done by Soham Kamat D12C 28\n",
        "\n",
        "We cross validate the dataset among different models for best results.\n",
        "\n",
        " '''\n",
        " reader = Reader()\n",
        "\n",
        "# Selecting top 100K rows for faster run time\n",
        "data = Dataset.load_from_df(df[['Cust_Id', 'Movie_Id', 'Rating']][:100000], reader)\n",
        "#data.split(n_folds=3)\n",
        "\n",
        "svd = SVD()\n",
        "cross_validate(svd, data, measures=['RMSE', 'MAE'])"
      ],
      "execution_count": 69,
      "outputs": [
        {
          "output_type": "execute_result",
          "data": {
            "text/plain": [
              "{'fit_time': (4.767416000366211,\n",
              "  4.762507915496826,\n",
              "  4.818485260009766,\n",
              "  4.778703212738037,\n",
              "  4.822225093841553),\n",
              " 'test_mae': array([0.80820108, 0.80128507, 0.78988519, 0.79569538, 0.80513223]),\n",
              " 'test_rmse': array([1.00666336, 0.99997956, 0.99072155, 0.99818292, 0.99807259]),\n",
              " 'test_time': (0.1412954330444336,\n",
              "  0.15526723861694336,\n",
              "  0.7137789726257324,\n",
              "  0.1531202793121338,\n",
              "  0.14369678497314453)}"
            ]
          },
          "metadata": {
            "tags": []
          },
          "execution_count": 69
        }
      ]
    },
    {
      "cell_type": "code",
      "metadata": {
        "colab": {
          "base_uri": "https://localhost:8080/"
        },
        "id": "nhAvx0PHXarv",
        "outputId": "9f54e723-fa4b-42c7-ebd9-2e8088137ac8"
      },
      "source": [
        "'''\n",
        "We want to predict results for user 785314...So we show the list of movies which have rating 5 because they are\n",
        "user 785314 's fav. movies....\n",
        "'''\n",
        "\n",
        "df_785314 = df[(df['Cust_Id'] == 785314) & (df['Rating'] ==5)]\n",
        "print(df_785314)\n",
        "df_785314 = df_785314.set_index('Movie_Id')\n",
        "df_785314 = df_785314.join(df_title)['Name']\n",
        "print(df_785314)\n"
      ],
      "execution_count": 70,
      "outputs": [
        {
          "output_type": "stream",
          "text": [
            "         Cust_Id  Rating        Date  Movie_Id\n",
            "258703    785314     5.0  2002-03-18        57\n",
            "577616    785314     5.0  2002-03-15       175\n",
            "1473265   785314     5.0  2004-11-09       311\n",
            "1670799   785314     5.0  2003-03-21       329\n",
            "1764097   785314     5.0  2002-05-23       331\n",
            "Movie_Id\n",
            "57        Richard III\n",
            "175    Reservoir Dogs\n",
            "311           Ed Wood\n",
            "329             Dogma\n",
            "331       Chasing Amy\n",
            "Name: Name, dtype: object\n"
          ],
          "name": "stdout"
        }
      ]
    },
    {
      "cell_type": "code",
      "metadata": {
        "colab": {
          "base_uri": "https://localhost:8080/"
        },
        "id": "CTGDDS1hXjam",
        "outputId": "d51e1ece-fb35-45ed-ef59-d1c2334f1070"
      },
      "source": [
        "'''\n",
        "We use the trimmed datset of moviea sd create its copy for this user\n",
        "Then, train it with SVD and\n",
        "find the Estimate Score for user 785314 ,this score shows the likliood that\n",
        "this user will like a particular movies\n",
        "then we present the top 10 results having highest scores\n",
        "\n",
        "'''\n",
        "user_785314 = df_title.copy()\n",
        "# print(user_785314)\n",
        "user_785314 = user_785314.reset_index()\n",
        "# print(user_785314)\n",
        "user_785314 = user_785314[~user_785314['Movie_Id'].isin(drop_movie_list)]\n",
        "# print(user_785314)\n",
        "\n",
        "# getting full dataset\n",
        "data = Dataset.load_from_df(df[['Cust_Id', 'Movie_Id', 'Rating']], reader)\n",
        "\n",
        "trainset = data.build_full_trainset()\n",
        "svd.fit(trainset)\n",
        "\n",
        "user_785314['Estimate_Score'] = user_785314['Movie_Id'].apply(lambda x: svd.predict(785314, x).est)\n",
        "print(user_785314)\n",
        "user_785314 = user_785314.drop('Movie_Id', axis = 1)\n",
        "\n",
        "user_785314 = user_785314.sort_values('Estimate_Score', ascending=False)\n",
        "print(user_785314.head(10))\n"
      ],
      "execution_count": 78,
      "outputs": [
        {
          "output_type": "stream",
          "text": [
            "       Movie_Id  ...  Estimate_Score\n",
            "7             8  ...        1.599816\n",
            "15           16  ...        2.517176\n",
            "16           17  ...        2.354928\n",
            "17           18  ...        2.830198\n",
            "25           26  ...        2.125460\n",
            "...         ...  ...             ...\n",
            "17765     17766  ...        3.123011\n",
            "17766     17767  ...        3.123011\n",
            "17767     17768  ...        3.123011\n",
            "17768     17769  ...        3.123011\n",
            "17769     17770  ...        3.123011\n",
            "\n",
            "[17460 rows x 4 columns]\n",
            "       Year                        Name  Estimate_Score\n",
            "67   2004.0                 Invader Zim        4.388713\n",
            "174  1992.0              Reservoir Dogs        4.356965\n",
            "222  2003.0  Chappelle's Show: Season 1        4.344177\n",
            "252  1935.0        A Night at the Opera        4.196450\n",
            "179  2002.0                     Scratch        4.031613\n",
            "310  1994.0                     Ed Wood        4.023784\n",
            "328  1999.0                       Dogma        3.914913\n",
            "56   1995.0                 Richard III        3.910403\n",
            "240  1959.0          North by Northwest        3.905844\n",
            "330  1997.0                 Chasing Amy        3.870053\n"
          ],
          "name": "stdout"
        }
      ]
    },
    {
      "cell_type": "code",
      "metadata": {
        "colab": {
          "base_uri": "https://localhost:8080/"
        },
        "id": "wOlvBDOuGj3B",
        "outputId": "2bc34241-3a99-4e7e-cc01-d8b761617f6c"
      },
      "source": [
        "#This is matrix (Movie_Id  X Cust_Id) having rating \n",
        "print(df_p)"
      ],
      "execution_count": 82,
      "outputs": [
        {
          "output_type": "stream",
          "text": [
            "Movie_Id  8    16   17   18   26   28   30   ...  431  432  433  436  438  442  443\n",
            "Cust_Id                                      ...                                   \n",
            "6         NaN  NaN  NaN  NaN  NaN  NaN  3.0  ...  NaN  NaN  NaN  NaN  NaN  NaN  NaN\n",
            "7         5.0  NaN  NaN  NaN  NaN  4.0  5.0  ...  NaN  NaN  NaN  NaN  NaN  NaN  NaN\n",
            "79        NaN  NaN  NaN  NaN  NaN  NaN  3.0  ...  NaN  NaN  NaN  NaN  NaN  NaN  NaN\n",
            "87        NaN  NaN  NaN  NaN  NaN  NaN  NaN  ...  NaN  NaN  NaN  NaN  NaN  NaN  NaN\n",
            "97        NaN  NaN  NaN  NaN  NaN  NaN  NaN  ...  NaN  NaN  NaN  NaN  NaN  NaN  5.0\n",
            "...       ...  ...  ...  ...  ...  ...  ...  ...  ...  ...  ...  ...  ...  ...  ...\n",
            "2649335   NaN  NaN  NaN  NaN  NaN  NaN  NaN  ...  NaN  NaN  NaN  NaN  NaN  NaN  3.0\n",
            "2649336   4.0  NaN  NaN  NaN  NaN  NaN  NaN  ...  NaN  NaN  NaN  NaN  NaN  NaN  NaN\n",
            "2649378   NaN  NaN  NaN  NaN  NaN  3.0  3.0  ...  NaN  NaN  NaN  NaN  NaN  NaN  NaN\n",
            "2649388   NaN  NaN  NaN  NaN  NaN  NaN  3.0  ...  NaN  NaN  NaN  NaN  NaN  NaN  NaN\n",
            "2649426   NaN  NaN  4.0  NaN  NaN  4.0  4.0  ...  NaN  NaN  NaN  NaN  NaN  NaN  4.0\n",
            "\n",
            "[117252 rows x 133 columns]\n"
          ],
          "name": "stdout"
        }
      ]
    },
    {
      "cell_type": "code",
      "metadata": {
        "id": "fYv8ZbX1W4w-"
      },
      "source": [
        "'''\n",
        "Here ,the 2nd Recommendation model starts using Peason R Correlation..Done by Harshita Mishra D12C 40\n",
        "This model shows the highest 10 correlatons for a particular movie ..\n",
        "for eg- If we see 3 idiots ,then this reslt shows the top 10 movies highly correlated \n",
        "with 3 idiots.\n",
        "\n",
        "\n",
        "'''\n",
        "def recommend(movie_title, min_count):\n",
        "    print(\"For movie ({})\".format(movie_title))\n",
        "    print(\"- Top 10 movies recommended based on Pearsons'R correlation - \")\n",
        "    i = int(df_title.index[df_title['Name'] == movie_title][0])\n",
        "    target = df_p[i]\n",
        "    similar_to_target = df_p.corrwith(target)\n",
        "    corr_target = pd.DataFrame(similar_to_target, columns = ['PearsonR'])\n",
        "    corr_target.dropna(inplace = True)\n",
        "    corr_target = corr_target.sort_values('PearsonR', ascending = False)\n",
        "    corr_target.index = corr_target.index.map(int)\n",
        "    corr_target = corr_target.join(df_title).join(df_movie_summary)[['PearsonR', 'Name', 'count', 'mean']]\n",
        "    print(corr_target[corr_target['count']>min_count][:11].to_string(index=False))"
      ],
      "execution_count": 80,
      "outputs": []
    },
    {
      "cell_type": "code",
      "metadata": {
        "colab": {
          "base_uri": "https://localhost:8080/"
        },
        "id": "6mqpeH6EXBiG",
        "outputId": "55e97ac3-2e09-453f-efe0-998996885c21"
      },
      "source": [
        "'''\n",
        "Searching Reults for Movie The 10th Kingom\n",
        "'''\n",
        "recommend(\"The 10th Kingdom\", 0)"
      ],
      "execution_count": 81,
      "outputs": [
        {
          "output_type": "stream",
          "text": [
            "For movie (The 10th Kingdom)\n",
            "- Top 10 movies recommended based on Pearsons'R correlation - \n",
            " PearsonR                                  Name  count      mean\n",
            " 1.000000                      The 10th Kingdom   4532  3.669903\n",
            " 0.632151                               Scratch   2418  3.833747\n",
            " 0.592618                           Invader Zim   2216  4.142599\n",
            " 0.571494             Les Miserables in Concert   2714  3.988946\n",
            " 0.544561  Winnie the Pooh: Springtime with Roo   2190  3.768037\n",
            " 0.495298               The Weather Underground   5147  3.757140\n",
            " 0.492261                            The Legend   3217  3.755051\n",
            " 0.461465                        Justice League   3591  3.710944\n",
            " 0.460061                            The Chorus   9151  4.092230\n",
            " 0.457119                            Home Movie   2724  3.417401\n",
            " 0.450127                         The Last Shot   3558  2.600056\n"
          ],
          "name": "stdout"
        }
      ]
    },
    {
      "cell_type": "code",
      "metadata": {
        "colab": {
          "base_uri": "https://localhost:8080/"
        },
        "id": "9NmDcKdS41Lo",
        "outputId": "97ebb121-73cd-4611-a4f3-b7743e09aeee"
      },
      "source": [
        "# Searching Results for Invader Zim Movie\n",
        "\n",
        "recommend(\"Invader Zim\",0)\n",
        " "
      ],
      "execution_count": null,
      "outputs": [
        {
          "output_type": "stream",
          "text": [
            "For movie (Invader Zim)\n",
            "- Top 10 movies recommended based on Pearsons'R correlation - \n",
            " PearsonR                                            Name  count      mean\n",
            " 1.000000                                     Invader Zim   2216  4.142599\n",
            " 0.777647                                      Home Movie   2724  3.417401\n",
            " 0.696973                                         Scratch   2418  3.833747\n",
            " 0.650569                               Woman of the Year   5184  3.948495\n",
            " 0.642192                                      The Chorus   9151  4.092230\n",
            " 0.620012                                   The Last Shot   3558  2.600056\n",
            " 0.610916                                     Dinner Rush   3482  3.470994\n",
            " 0.605350                       The Bad and the Beautiful   2350  3.266383\n",
            " 0.592618                                The 10th Kingdom   4532  3.669903\n",
            " 0.578302  Neon Genesis Evangelion: The End of Evangelion   2375  3.911158\n",
            " 0.569907                                 The Love Letter   2619  2.968690\n"
          ],
          "name": "stdout"
        }
      ]
    }
  ]
}